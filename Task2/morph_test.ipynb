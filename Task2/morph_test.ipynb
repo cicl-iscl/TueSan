{
 "cells": [
  {
   "cell_type": "code",
   "execution_count": 1,
   "id": "7daaf34b",
   "metadata": {},
   "outputs": [],
   "source": [
    "from helpers import load_data"
   ]
  },
  {
   "cell_type": "code",
   "execution_count": 42,
   "id": "e1abac69",
   "metadata": {},
   "outputs": [],
   "source": [
    "data = load_data('wsmp_train.json')\n",
    "eval_data = load_data('wsmp_dev.json')"
   ]
  },
  {
   "cell_type": "code",
   "execution_count": 3,
   "id": "5e876163",
   "metadata": {},
   "outputs": [
    {
     "data": {
      "text/plain": [
       "('ghaṭa stha yogam yoga īśa tattva jñānasya kāraṇam',\n",
       " [('ghaṭa', 'iic.'),\n",
       "  ('stha', 'iic.'),\n",
       "  ('yoga', 'm. sg. acc.'),\n",
       "  ('yoga', 'iic.'),\n",
       "  ('īśa', 'm. sg. voc.'),\n",
       "  ('tattva', 'iic.'),\n",
       "  ('jñāna', 'n. sg. g.'),\n",
       "  ('kāraṇa', 'n. sg. acc.')])"
      ]
     },
     "execution_count": 3,
     "metadata": {},
     "output_type": "execute_result"
    }
   ],
   "source": [
    "data[0]"
   ]
  },
  {
   "cell_type": "code",
   "execution_count": 4,
   "id": "dd04d4eb",
   "metadata": {},
   "outputs": [],
   "source": [
    "import numpy as np\n",
    "from collections import defaultdict\n",
    "\n",
    "rules = defaultdict(int)\n",
    "\n",
    "for sentence, labels in data:\n",
    "    tokens = sentence.split()\n",
    "    stems, _ = zip(*labels)\n",
    "    \n",
    "    if len(tokens) != len(stems):\n",
    "        continue\n",
    "        \n",
    "    for token, stem in zip(tokens, stems):\n",
    "        # Find possible starting indices\n",
    "        indices = []\n",
    "        for i, char in enumerate(token):\n",
    "            if char == stem[0]:\n",
    "                indices.append(i)\n",
    "        \n",
    "        if len(indices) == 0:\n",
    "            continue\n",
    "        \n",
    "        match_lens = []\n",
    "        for idx in indices:\n",
    "            current_length = 0\n",
    "            for k in range(0, min(len(stem), len(token) - idx)):\n",
    "                if stem[k] == token[idx + k]:\n",
    "                    current_length += 1\n",
    "                else:\n",
    "                    break\n",
    "            match_lens.append(current_length)\n",
    "        \n",
    "        best_idx = np.argmin(match_lens)\n",
    "        best_length = match_lens[best_idx]\n",
    "        best_idx = indices[best_idx]\n",
    "        \n",
    "        if best_length == 0:\n",
    "            continue\n",
    "        \n",
    "        prefix = token[:best_idx]\n",
    "        suffix = token[best_idx + best_length:]\n",
    "        stem_suffix = stem[best_length:]\n",
    "        \n",
    "        rules[(prefix, suffix, stem_suffix)] += 1"
   ]
  },
  {
   "cell_type": "code",
   "execution_count": 5,
   "id": "4edc0b60",
   "metadata": {},
   "outputs": [
    {
     "data": {
      "text/plain": [
       "52"
      ]
     },
     "execution_count": 5,
     "metadata": {},
     "output_type": "execute_result"
    }
   ],
   "source": [
    "len([rule for rule, count in rules.items() if count >= 1000])"
   ]
  },
  {
   "cell_type": "code",
   "execution_count": 6,
   "id": "e2a7eb72",
   "metadata": {},
   "outputs": [],
   "source": [
    "token_stem_pairs = set()\n",
    "\n",
    "for sentence, labels in data:\n",
    "    tokens = sentence.split()\n",
    "    stems, _ = zip(*labels)\n",
    "    \n",
    "    if len(tokens) != len(stems):\n",
    "        continue\n",
    "        \n",
    "    for token, stem in zip(tokens, stems):\n",
    "        token_stem_pairs.add((token, stem))\n",
    "\n",
    "token_stem_pairs = list(token_stem_pairs)"
   ]
  },
  {
   "cell_type": "code",
   "execution_count": 43,
   "id": "31601da9",
   "metadata": {},
   "outputs": [],
   "source": [
    "eval_token_stem_pairs = set()\n",
    "\n",
    "for sentence, labels in eval_data:\n",
    "    tokens = sentence.split()\n",
    "    stems, _ = zip(*labels)\n",
    "    \n",
    "    if len(tokens) != len(stems):\n",
    "        continue\n",
    "        \n",
    "    for token, stem in zip(tokens, stems):\n",
    "        eval_token_stem_pairs.add((token, stem))\n",
    "\n",
    "eval_token_stem_pairs = list(eval_token_stem_pairs)"
   ]
  },
  {
   "cell_type": "code",
   "execution_count": 44,
   "id": "730c394d",
   "metadata": {},
   "outputs": [
    {
     "data": {
      "text/plain": [
       "20011"
      ]
     },
     "execution_count": 44,
     "metadata": {},
     "output_type": "execute_result"
    }
   ],
   "source": [
    "len(eval_token_stem_pairs)"
   ]
  },
  {
   "cell_type": "code",
   "execution_count": 8,
   "id": "50f9e743",
   "metadata": {},
   "outputs": [
    {
     "data": {
      "application/vnd.jupyter.widget-view+json": {
       "model_id": "7e90d1b1206045b4a603c2da933c5ee3",
       "version_major": 2,
       "version_minor": 0
      },
      "text/plain": [
       "  0%|          | 0/1000 [00:00<?, ?it/s]"
      ]
     },
     "metadata": {},
     "output_type": "display_data"
    }
   ],
   "source": [
    "from tqdm.auto import trange\n",
    "\n",
    "for k in trange(1000):\n",
    "    pass"
   ]
  },
  {
   "cell_type": "code",
   "execution_count": 68,
   "id": "15379b44",
   "metadata": {},
   "outputs": [
    {
     "data": {
      "application/vnd.jupyter.widget-view+json": {
       "model_id": "e4a081cbd59b41bdbff6c0d2bf588367",
       "version_major": 2,
       "version_minor": 0
      },
      "text/plain": [
       "  0%|          | 0/20011 [00:00<?, ?it/s]"
      ]
     },
     "metadata": {},
     "output_type": "display_data"
    }
   ],
   "source": [
    "from tqdm.notebook import tqdm\n",
    "\n",
    "success = 0\n",
    "\n",
    "valid_rules = [rule for rule, count in rules.items() if count > 50]\n",
    "candidate_lengths = []\n",
    "\n",
    "for token, stem in tqdm(eval_token_stem_pairs):\n",
    "    possible_stems = []\n",
    "    \n",
    "    for prefix, suffix, stem_suffix in valid_rules:\n",
    "        possible_stem = token[:]\n",
    "        if possible_stem.startswith(prefix):\n",
    "            possible_stem = possible_stem[len(prefix):]\n",
    "        else:\n",
    "            continue\n",
    "        \n",
    "        if possible_stem.endswith(suffix):\n",
    "            possible_stem = possible_stem[:len(possible_stem) - len(suffix)]\n",
    "            possible_stem += stem_suffix\n",
    "        else:\n",
    "            continue\n",
    "        \n",
    "        possible_stems.append(possible_stem)\n",
    "    \n",
    "    possible_stems = list(sorted(set(possible_stems)))\n",
    "    \n",
    "    if stem in possible_stems:\n",
    "        success += 1\n",
    "    \n",
    "    candidate_lengths.append(len(possible_stems))"
   ]
  },
  {
   "cell_type": "code",
   "execution_count": 69,
   "id": "5fc04eb2",
   "metadata": {},
   "outputs": [
    {
     "name": "stdout",
     "output_type": "stream",
     "text": [
      "Perc. of reconstructed stems: 0.9314377092599071\n",
      "Avg. number of candidate stems: 6.857128579281396\n"
     ]
    }
   ],
   "source": [
    "print(f\"Perc. of reconstructed stems: {success / len(eval_token_stem_pairs)}\")\n",
    "print(f\"Avg. number of candidate stems: {np.mean(candidate_lengths)}\")"
   ]
  },
  {
   "cell_type": "code",
   "execution_count": 70,
   "id": "d6d54870",
   "metadata": {},
   "outputs": [
    {
     "data": {
      "text/plain": [
       "['aśānt',\n",
       " 'aśānta',\n",
       " 'aśāntad',\n",
       " 'aśāntau',\n",
       " 'aśāntaun',\n",
       " 'aśānti',\n",
       " 'aśāntu',\n",
       " 'aśāt']"
      ]
     },
     "execution_count": 70,
     "metadata": {},
     "output_type": "execute_result"
    }
   ],
   "source": [
    "possible_stems[:20]"
   ]
  },
  {
   "cell_type": "code",
   "execution_count": 71,
   "id": "d5b60d49",
   "metadata": {},
   "outputs": [
    {
     "data": {
      "text/plain": [
       "474"
      ]
     },
     "execution_count": 71,
     "metadata": {},
     "output_type": "execute_result"
    }
   ],
   "source": [
    "len(valid_rules)"
   ]
  },
  {
   "cell_type": "code",
   "execution_count": null,
   "id": "7e01f362",
   "metadata": {},
   "outputs": [],
   "source": []
  }
 ],
 "metadata": {
  "kernelspec": {
   "display_name": "Python 3 (ipykernel)",
   "language": "python",
   "name": "python3"
  },
  "language_info": {
   "codemirror_mode": {
    "name": "ipython",
    "version": 3
   },
   "file_extension": ".py",
   "mimetype": "text/x-python",
   "name": "python",
   "nbconvert_exporter": "python",
   "pygments_lexer": "ipython3",
   "version": "3.9.7"
  }
 },
 "nbformat": 4,
 "nbformat_minor": 5
}
